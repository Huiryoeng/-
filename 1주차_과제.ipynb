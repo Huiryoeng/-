{
  "nbformat": 4,
  "nbformat_minor": 0,
  "metadata": {
    "colab": {
      "name": "1주차 과제",
      "provenance": [],
      "authorship_tag": "ABX9TyNMYNOJBeZK+yp1FgG1FM2m"
    },
    "kernelspec": {
      "name": "python3",
      "display_name": "Python 3"
    }
  },
  "cells": [
    {
      "cell_type": "code",
      "metadata": {
        "id": "KRKuJ8k2LJpu",
        "colab_type": "code",
        "colab": {}
      },
      "source": [
        ""
      ],
      "execution_count": 0,
      "outputs": []
    },
    {
      "cell_type": "markdown",
      "metadata": {
        "id": "sLtMewkcL9ag",
        "colab_type": "text"
      },
      "source": [
        "# 1주차 과제\n",
        "인공지능을 사용하는 언어, 음성, 이미지, 자율주행 서비스\n",
        "\n",
        "1. 언어\n",
        " - 챗봇. Kakaotalk 내 API등을 이용한 챗봇이 활발하게 활성화 되어 있다.\n",
        "2. 음성\n",
        " - Siri, Alexa, Cortana, Google Assistant, Nugu 등의 음성인식 기반 개인비서 서비스\n",
        "3. 이미지\n",
        " - Google사의 Pixel 폰에 적용된 카메라. 1개의 렌즈를 이용하지만 AI로 다른 스마트폰의 카메라보다 좋은 사진을 뽑아낸다.\n",
        "4. 자율주행\n",
        " - Tesla사의 자동차 자율주행"
      ]
    }
  ]
}